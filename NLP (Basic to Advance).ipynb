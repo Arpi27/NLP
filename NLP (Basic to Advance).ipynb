{
 "cells": [
  {
   "cell_type": "code",
   "execution_count": 3,
   "id": "fd892f94",
   "metadata": {},
   "outputs": [
    {
     "name": "stdout",
     "output_type": "stream",
     "text": [
      "Requirement already satisfied: nltk in c:\\users\\arpita singh\\onedrive\\documents\\anaconda\\lib\\site-packages (3.7)\n",
      "Requirement already satisfied: click in c:\\users\\arpita singh\\onedrive\\documents\\anaconda\\lib\\site-packages (from nltk) (8.0.4)\n",
      "Requirement already satisfied: regex>=2021.8.3 in c:\\users\\arpita singh\\onedrive\\documents\\anaconda\\lib\\site-packages (from nltk) (2022.7.9)\n",
      "Requirement already satisfied: joblib in c:\\users\\arpita singh\\onedrive\\documents\\anaconda\\lib\\site-packages (from nltk) (1.1.0)\n",
      "Requirement already satisfied: tqdm in c:\\users\\arpita singh\\onedrive\\documents\\anaconda\\lib\\site-packages (from nltk) (4.64.1)\n",
      "Requirement already satisfied: colorama in c:\\users\\arpita singh\\onedrive\\documents\\anaconda\\lib\\site-packages (from click->nltk) (0.4.5)\n"
     ]
    }
   ],
   "source": [
    "# ! pip install nltk\n",
    "! pip install nltk"
   ]
  },
  {
   "cell_type": "code",
   "execution_count": 4,
   "id": "69b5d0dc",
   "metadata": {},
   "outputs": [],
   "source": [
    "corpus=\"\"\"\n",
    "Hello I am arpita singh I am data enthusiast\n",
    "exploring new opportunity.\n",
    "\"\"\""
   ]
  },
  {
   "cell_type": "code",
   "execution_count": 5,
   "id": "f850c744",
   "metadata": {},
   "outputs": [],
   "source": [
    "#from paragraph to senetence...\n",
    "from nltk.tokenize import sent_tokenize"
   ]
  },
  {
   "cell_type": "code",
   "execution_count": 6,
   "id": "b58e496f",
   "metadata": {},
   "outputs": [
    {
     "data": {
      "text/plain": [
       "['\\nHello I am arpita singh I am data enthusiast\\nexploring new opportunity.']"
      ]
     },
     "execution_count": 6,
     "metadata": {},
     "output_type": "execute_result"
    }
   ],
   "source": [
    "sent_tokenize(corpus)"
   ]
  },
  {
   "cell_type": "code",
   "execution_count": 7,
   "id": "f200b28b",
   "metadata": {},
   "outputs": [],
   "source": [
    "#from paragraph to words\n",
    "from nltk.tokenize import word_tokenize"
   ]
  },
  {
   "cell_type": "code",
   "execution_count": 8,
   "id": "74c07819",
   "metadata": {},
   "outputs": [
    {
     "data": {
      "text/plain": [
       "['Hello',\n",
       " 'I',\n",
       " 'am',\n",
       " 'arpita',\n",
       " 'singh',\n",
       " 'I',\n",
       " 'am',\n",
       " 'data',\n",
       " 'enthusiast',\n",
       " 'exploring',\n",
       " 'new',\n",
       " 'opportunity',\n",
       " '.']"
      ]
     },
     "execution_count": 8,
     "metadata": {},
     "output_type": "execute_result"
    }
   ],
   "source": [
    "word_tokenize(corpus)"
   ]
  },
  {
   "cell_type": "code",
   "execution_count": 9,
   "id": "71e801fa",
   "metadata": {},
   "outputs": [],
   "source": [
    "from nltk.tokenize import wordpunct_tokenize"
   ]
  },
  {
   "cell_type": "code",
   "execution_count": 10,
   "id": "b366a166",
   "metadata": {},
   "outputs": [
    {
     "data": {
      "text/plain": [
       "['Hello',\n",
       " 'I',\n",
       " 'am',\n",
       " 'arpita',\n",
       " 'singh',\n",
       " 'I',\n",
       " 'am',\n",
       " 'data',\n",
       " 'enthusiast',\n",
       " 'exploring',\n",
       " 'new',\n",
       " 'opportunity',\n",
       " '.']"
      ]
     },
     "execution_count": 10,
     "metadata": {},
     "output_type": "execute_result"
    }
   ],
   "source": [
    "wordpunct_tokenize(corpus)"
   ]
  },
  {
   "cell_type": "code",
   "execution_count": 11,
   "id": "47cf6bbc",
   "metadata": {},
   "outputs": [],
   "source": [
    "from nltk.tokenize import TreebankWordTokenizer"
   ]
  },
  {
   "cell_type": "code",
   "execution_count": 12,
   "id": "d0f7bc0d",
   "metadata": {},
   "outputs": [],
   "source": [
    "Tokenizer=TreebankWordTokenizer()"
   ]
  },
  {
   "cell_type": "code",
   "execution_count": 13,
   "id": "40b9834b",
   "metadata": {},
   "outputs": [
    {
     "data": {
      "text/plain": [
       "['Hello',\n",
       " 'I',\n",
       " 'am',\n",
       " 'arpita',\n",
       " 'singh',\n",
       " 'I',\n",
       " 'am',\n",
       " 'data',\n",
       " 'enthusiast',\n",
       " 'exploring',\n",
       " 'new',\n",
       " 'opportunity',\n",
       " '.']"
      ]
     },
     "execution_count": 13,
     "metadata": {},
     "output_type": "execute_result"
    }
   ],
   "source": [
    "Tokenizer.tokenize(corpus)"
   ]
  },
  {
   "cell_type": "markdown",
   "id": "a74dfdd8",
   "metadata": {},
   "source": [
    "# Stemming"
   ]
  },
  {
   "cell_type": "code",
   "execution_count": 14,
   "id": "fba1d16a",
   "metadata": {},
   "outputs": [],
   "source": [
    "from nltk.stem import PorterStemmer"
   ]
  },
  {
   "cell_type": "code",
   "execution_count": 15,
   "id": "1309ecb8",
   "metadata": {},
   "outputs": [],
   "source": [
    "stemming=PorterStemmer()"
   ]
  },
  {
   "cell_type": "code",
   "execution_count": 16,
   "id": "58acc574",
   "metadata": {},
   "outputs": [],
   "source": [
    "words=['eating','eats','eaten','write','writing','written','wrote','programming','programs','programmed']"
   ]
  },
  {
   "cell_type": "code",
   "execution_count": 17,
   "id": "b8391d17",
   "metadata": {},
   "outputs": [
    {
     "name": "stdout",
     "output_type": "stream",
     "text": [
      "eating----->eat\n",
      "eats----->eat\n",
      "eaten----->eaten\n",
      "write----->write\n",
      "writing----->write\n",
      "written----->written\n",
      "wrote----->wrote\n",
      "programming----->program\n",
      "programs----->program\n",
      "programmed----->program\n"
     ]
    }
   ],
   "source": [
    "for word in words:\n",
    "    print(word+'----->'+stemming.stem(word))"
   ]
  },
  {
   "cell_type": "code",
   "execution_count": 18,
   "id": "9a863184",
   "metadata": {},
   "outputs": [
    {
     "data": {
      "text/plain": [
       "'congratul'"
      ]
     },
     "execution_count": 18,
     "metadata": {},
     "output_type": "execute_result"
    }
   ],
   "source": [
    "stemming.stem('congratulations')"
   ]
  },
  {
   "cell_type": "code",
   "execution_count": 19,
   "id": "29eb561f",
   "metadata": {},
   "outputs": [
    {
     "data": {
      "text/plain": [
       "'histori'"
      ]
     },
     "execution_count": 19,
     "metadata": {},
     "output_type": "execute_result"
    }
   ],
   "source": [
    "stemming.stem('History')"
   ]
  },
  {
   "cell_type": "code",
   "execution_count": 20,
   "id": "802d6ce9",
   "metadata": {},
   "outputs": [],
   "source": [
    "#Lancaster stemming\n",
    "from nltk.stem import LancasterStemmer"
   ]
  },
  {
   "cell_type": "code",
   "execution_count": 21,
   "id": "0dc6915f",
   "metadata": {},
   "outputs": [],
   "source": [
    "lancaster=LancasterStemmer()"
   ]
  },
  {
   "cell_type": "code",
   "execution_count": 22,
   "id": "4728f05e",
   "metadata": {},
   "outputs": [
    {
     "name": "stdout",
     "output_type": "stream",
     "text": [
      "eating---->eat\n",
      "eats---->eat\n",
      "eaten---->eat\n",
      "write---->writ\n",
      "writing---->writ\n",
      "written---->writ\n",
      "wrote---->wrot\n",
      "programming---->program\n",
      "programs---->program\n",
      "programmed---->program\n"
     ]
    }
   ],
   "source": [
    "for word in words:\n",
    "    print(word+'---->'+lancaster.stem(word))"
   ]
  },
  {
   "cell_type": "markdown",
   "id": "8e247222",
   "metadata": {},
   "source": [
    "# Regexpstemmer class"
   ]
  },
  {
   "cell_type": "code",
   "execution_count": 23,
   "id": "a033b315",
   "metadata": {},
   "outputs": [],
   "source": [
    "from nltk.stem import RegexpStemmer"
   ]
  },
  {
   "cell_type": "code",
   "execution_count": 24,
   "id": "d08ec4ca",
   "metadata": {},
   "outputs": [],
   "source": [
    "reg_stemmer=RegexpStemmer('ing$|s$|e$|able$',min=4)"
   ]
  },
  {
   "cell_type": "code",
   "execution_count": 25,
   "id": "19093871",
   "metadata": {},
   "outputs": [
    {
     "data": {
      "text/plain": [
       "'eat'"
      ]
     },
     "execution_count": 25,
     "metadata": {},
     "output_type": "execute_result"
    }
   ],
   "source": [
    "reg_stemmer.stem('eating')"
   ]
  },
  {
   "cell_type": "code",
   "execution_count": 26,
   "id": "e1827232",
   "metadata": {},
   "outputs": [
    {
     "data": {
      "text/plain": [
       "'play'"
      ]
     },
     "execution_count": 26,
     "metadata": {},
     "output_type": "execute_result"
    }
   ],
   "source": [
    "reg_stemmer.stem(\"playing\")"
   ]
  },
  {
   "cell_type": "markdown",
   "id": "6d7d5b2d",
   "metadata": {},
   "source": [
    "# Snowballstemmer"
   ]
  },
  {
   "cell_type": "code",
   "execution_count": 27,
   "id": "2c5ef5c6",
   "metadata": {},
   "outputs": [],
   "source": [
    "from nltk.stem import SnowballStemmer"
   ]
  },
  {
   "cell_type": "code",
   "execution_count": 28,
   "id": "f884842d",
   "metadata": {},
   "outputs": [],
   "source": [
    " snowballstemmer= SnowballStemmer('english',ignore_stopwords=False)"
   ]
  },
  {
   "cell_type": "code",
   "execution_count": 29,
   "id": "0b66289d",
   "metadata": {},
   "outputs": [
    {
     "name": "stdout",
     "output_type": "stream",
     "text": [
      "eating---->eat\n",
      "eats---->eat\n",
      "eaten---->eaten\n",
      "write---->write\n",
      "writing---->write\n",
      "written---->written\n",
      "wrote---->wrote\n",
      "programming---->program\n",
      "programs---->program\n",
      "programmed---->program\n"
     ]
    }
   ],
   "source": [
    "for word in words:\n",
    "    print(word+'---->'+snowballstemmer.stem(word))"
   ]
  },
  {
   "cell_type": "code",
   "execution_count": 30,
   "id": "529d8da3",
   "metadata": {},
   "outputs": [
    {
     "data": {
      "text/plain": [
       "('fairli', 'sportingli')"
      ]
     },
     "execution_count": 30,
     "metadata": {},
     "output_type": "execute_result"
    }
   ],
   "source": [
    "stemming.stem('fairly'),stemming.stem('sportingly')"
   ]
  },
  {
   "cell_type": "code",
   "execution_count": 31,
   "id": "d08e16aa",
   "metadata": {},
   "outputs": [
    {
     "data": {
      "text/plain": [
       "('fair', 'sport')"
      ]
     },
     "execution_count": 31,
     "metadata": {},
     "output_type": "execute_result"
    }
   ],
   "source": [
    "snowballstemmer.stem('fairly'),snowballstemmer.stem('sportingly')"
   ]
  },
  {
   "cell_type": "markdown",
   "id": "bae465e1",
   "metadata": {},
   "source": [
    "# Lemmatization"
   ]
  },
  {
   "cell_type": "code",
   "execution_count": 32,
   "id": "483b1138",
   "metadata": {},
   "outputs": [],
   "source": [
    "import nltk\n",
    "from nltk.stem import WordNetLemmatizer\n",
    "lemmatizer=WordNetLemmatizer()"
   ]
  },
  {
   "cell_type": "code",
   "execution_count": 33,
   "id": "737c3d7b",
   "metadata": {},
   "outputs": [
    {
     "name": "stdout",
     "output_type": "stream",
     "text": [
      "eating---->eating\n",
      "eats---->eats\n",
      "eaten---->eaten\n",
      "write---->write\n",
      "writing---->writing\n",
      "written---->written\n",
      "wrote---->wrote\n",
      "programming---->programming\n",
      "programs---->program\n",
      "programmed---->programmed\n"
     ]
    }
   ],
   "source": [
    "for word in words:\n",
    "    print(word+'---->'+lemmatizer.lemmatize(word))"
   ]
  },
  {
   "cell_type": "code",
   "execution_count": 34,
   "id": "f14bb6cc",
   "metadata": {},
   "outputs": [
    {
     "data": {
      "text/plain": [
       "'better'"
      ]
     },
     "execution_count": 34,
     "metadata": {},
     "output_type": "execute_result"
    }
   ],
   "source": [
    "lemmatizer.lemmatize('better',pos='n')"
   ]
  },
  {
   "cell_type": "code",
   "execution_count": 35,
   "id": "a43ec971",
   "metadata": {},
   "outputs": [],
   "source": [
    "paragraphs=\"\"\"\n",
    "OSG is a leading manufacturer of taps, end mills, drills, and indexable cutting tools. OSG’s extensive line of high technology cutting tools features exclusive metallurgy, cutting geometries and proprietary surface treatments to help increase productivity, reliability and tool life. OSG also serves the fastener industry by offering a complete line of thread rolling, flat, cylindrical, planetary, rack and trim dies. The company markets its products to numerous industries including automotive, die mold, aerospace, energy, heavy industry and dental.\n",
    "\"\"\""
   ]
  },
  {
   "cell_type": "code",
   "execution_count": 36,
   "id": "3b0744aa",
   "metadata": {},
   "outputs": [
    {
     "data": {
      "text/plain": [
       "'\\nOSG is a leading manufacturer of taps, end mills, drills, and indexable cutting tools. OSG’s extensive line of high technology cutting tools features exclusive metallurgy, cutting geometries and proprietary surface treatments to help increase productivity, reliability and tool life. OSG also serves the fastener industry by offering a complete line of thread rolling, flat, cylindrical, planetary, rack and trim dies. The company markets its products to numerous industries including automotive, die mold, aerospace, energy, heavy industry and dental.\\n'"
      ]
     },
     "execution_count": 36,
     "metadata": {},
     "output_type": "execute_result"
    }
   ],
   "source": [
    "paragraphs"
   ]
  },
  {
   "cell_type": "code",
   "execution_count": 37,
   "id": "f563149e",
   "metadata": {},
   "outputs": [],
   "source": [
    "from nltk.stem import PorterStemmer\n",
    "from nltk.corpus import stopwords"
   ]
  },
  {
   "cell_type": "code",
   "execution_count": 38,
   "id": "a2d5a5b4",
   "metadata": {},
   "outputs": [
    {
     "name": "stderr",
     "output_type": "stream",
     "text": [
      "[nltk_data] Downloading package punkt to C:\\Users\\ARPITA\n",
      "[nltk_data]     SINGH\\AppData\\Roaming\\nltk_data...\n",
      "[nltk_data]   Package punkt is already up-to-date!\n"
     ]
    }
   ],
   "source": [
    "#tokenize ---- convert paragraph to sentences\n",
    "nltk.download('punkt')\n",
    "sentences=nltk.sent_tokenize(paragraphs)"
   ]
  },
  {
   "cell_type": "code",
   "execution_count": 39,
   "id": "7aa633c5",
   "metadata": {},
   "outputs": [
    {
     "name": "stdout",
     "output_type": "stream",
     "text": [
      "['\\nOSG is a leading manufacturer of taps, end mills, drills, and indexable cutting tools.', 'OSG’s extensive line of high technology cutting tools features exclusive metallurgy, cutting geometries and proprietary surface treatments to help increase productivity, reliability and tool life.', 'OSG also serves the fastener industry by offering a complete line of thread rolling, flat, cylindrical, planetary, rack and trim dies.', 'The company markets its products to numerous industries including automotive, die mold, aerospace, energy, heavy industry and dental.']\n"
     ]
    }
   ],
   "source": [
    "print(sentences)"
   ]
  },
  {
   "cell_type": "code",
   "execution_count": 40,
   "id": "caf4d014",
   "metadata": {},
   "outputs": [
    {
     "data": {
      "text/plain": [
       "list"
      ]
     },
     "execution_count": 40,
     "metadata": {},
     "output_type": "execute_result"
    }
   ],
   "source": [
    "type(sentences)"
   ]
  },
  {
   "cell_type": "code",
   "execution_count": 41,
   "id": "b17d2c81",
   "metadata": {},
   "outputs": [],
   "source": [
    "stemmer=PorterStemmer()"
   ]
  },
  {
   "cell_type": "code",
   "execution_count": 42,
   "id": "9974ae64",
   "metadata": {},
   "outputs": [
    {
     "data": {
      "text/plain": [
       "('drink', 'think')"
      ]
     },
     "execution_count": 42,
     "metadata": {},
     "output_type": "execute_result"
    }
   ],
   "source": [
    "stemmer.stem('drinking'),stemmer.stem('thinking')"
   ]
  },
  {
   "cell_type": "code",
   "execution_count": 43,
   "id": "e037b6d4",
   "metadata": {},
   "outputs": [],
   "source": [
    "lemmatizer=WordNetLemmatizer()"
   ]
  },
  {
   "cell_type": "code",
   "execution_count": 44,
   "id": "ce0c8594",
   "metadata": {},
   "outputs": [
    {
     "data": {
      "text/plain": [
       "'go'"
      ]
     },
     "execution_count": 44,
     "metadata": {},
     "output_type": "execute_result"
    }
   ],
   "source": [
    "lemmatizer.lemmatize('goes')"
   ]
  },
  {
   "cell_type": "code",
   "execution_count": 45,
   "id": "c6b2e170",
   "metadata": {},
   "outputs": [],
   "source": [
    "import re\n"
   ]
  },
  {
   "cell_type": "code",
   "execution_count": 46,
   "id": "892a646c",
   "metadata": {},
   "outputs": [],
   "source": [
    "corpus=[]\n",
    "for i in range(len(sentences)):\n",
    "    review=re.sub('[^a-zA-Z]',' ',sentences[i])\n",
    "    review=review.lower()\n",
    "    corpus.append(review)"
   ]
  },
  {
   "cell_type": "code",
   "execution_count": 47,
   "id": "06f4b904",
   "metadata": {},
   "outputs": [
    {
     "data": {
      "text/plain": [
       "[' osg is a leading manufacturer of taps  end mills  drills  and indexable cutting tools ',\n",
       " 'osg s extensive line of high technology cutting tools features exclusive metallurgy  cutting geometries and proprietary surface treatments to help increase productivity  reliability and tool life ',\n",
       " 'osg also serves the fastener industry by offering a complete line of thread rolling  flat  cylindrical  planetary  rack and trim dies ',\n",
       " 'the company markets its products to numerous industries including automotive  die mold  aerospace  energy  heavy industry and dental ']"
      ]
     },
     "execution_count": 47,
     "metadata": {},
     "output_type": "execute_result"
    }
   ],
   "source": [
    "corpus"
   ]
  },
  {
   "cell_type": "code",
   "execution_count": 48,
   "id": "d5186027",
   "metadata": {},
   "outputs": [
    {
     "name": "stdout",
     "output_type": "stream",
     "text": [
      " \n",
      "o\n",
      "s\n",
      "g\n",
      " \n",
      "i\n",
      "s\n",
      " \n",
      "a\n",
      " \n",
      "l\n",
      "e\n",
      "a\n",
      "d\n",
      "i\n",
      "n\n",
      "g\n",
      " \n",
      "m\n",
      "a\n",
      "n\n",
      "u\n",
      "f\n",
      "a\n",
      "c\n",
      "t\n",
      "u\n",
      "r\n",
      "e\n",
      "r\n",
      " \n",
      "o\n",
      "f\n",
      " \n",
      "t\n",
      "a\n",
      "p\n",
      "s\n",
      " \n",
      " \n",
      "e\n",
      "n\n",
      "d\n",
      " \n",
      "m\n",
      "i\n",
      "l\n",
      "l\n",
      "s\n",
      " \n",
      " \n",
      "d\n",
      "r\n",
      "i\n",
      "l\n",
      "l\n",
      "s\n",
      " \n",
      " \n",
      "a\n",
      "n\n",
      "d\n",
      " \n",
      "i\n",
      "n\n",
      "d\n",
      "e\n",
      "x\n",
      "a\n",
      "b\n",
      "l\n",
      "e\n",
      " \n",
      "c\n",
      "u\n",
      "t\n",
      "t\n",
      "i\n",
      "n\n",
      "g\n",
      " \n",
      "t\n",
      "o\n",
      "o\n",
      "l\n",
      "s\n",
      " \n",
      "o\n",
      "s\n",
      "g\n",
      " \n",
      "s\n",
      " \n",
      "e\n",
      "x\n",
      "t\n",
      "e\n",
      "n\n",
      "s\n",
      "i\n",
      "v\n",
      "e\n",
      " \n",
      "l\n",
      "i\n",
      "n\n",
      "e\n",
      " \n",
      "o\n",
      "f\n",
      " \n",
      "h\n",
      "i\n",
      "g\n",
      "h\n",
      " \n",
      "t\n",
      "e\n",
      "c\n",
      "h\n",
      "n\n",
      "o\n",
      "l\n",
      "o\n",
      "g\n",
      "y\n",
      " \n",
      "c\n",
      "u\n",
      "t\n",
      "t\n",
      "i\n",
      "n\n",
      "g\n",
      " \n",
      "t\n",
      "o\n",
      "o\n",
      "l\n",
      "s\n",
      " \n",
      "f\n",
      "e\n",
      "a\n",
      "t\n",
      "u\n",
      "r\n",
      "e\n",
      "s\n",
      " \n",
      "e\n",
      "x\n",
      "c\n",
      "l\n",
      "u\n",
      "s\n",
      "i\n",
      "v\n",
      "e\n",
      " \n",
      "m\n",
      "e\n",
      "t\n",
      "a\n",
      "l\n",
      "l\n",
      "u\n",
      "r\n",
      "g\n",
      "y\n",
      " \n",
      " \n",
      "c\n",
      "u\n",
      "t\n",
      "t\n",
      "i\n",
      "n\n",
      "g\n",
      " \n",
      "g\n",
      "e\n",
      "o\n",
      "m\n",
      "e\n",
      "t\n",
      "r\n",
      "i\n",
      "e\n",
      "s\n",
      " \n",
      "a\n",
      "n\n",
      "d\n",
      " \n",
      "p\n",
      "r\n",
      "o\n",
      "p\n",
      "r\n",
      "i\n",
      "e\n",
      "t\n",
      "a\n",
      "r\n",
      "y\n",
      " \n",
      "s\n",
      "u\n",
      "r\n",
      "f\n",
      "a\n",
      "c\n",
      "e\n",
      " \n",
      "t\n",
      "r\n",
      "e\n",
      "a\n",
      "t\n",
      "m\n",
      "e\n",
      "n\n",
      "t\n",
      "s\n",
      " \n",
      "t\n",
      "o\n",
      " \n",
      "h\n",
      "e\n",
      "l\n",
      "p\n",
      " \n",
      "i\n",
      "n\n",
      "c\n",
      "r\n",
      "e\n",
      "a\n",
      "s\n",
      "e\n",
      " \n",
      "p\n",
      "r\n",
      "o\n",
      "d\n",
      "u\n",
      "c\n",
      "t\n",
      "i\n",
      "v\n",
      "i\n",
      "t\n",
      "y\n",
      " \n",
      " \n",
      "r\n",
      "e\n",
      "l\n",
      "i\n",
      "a\n",
      "b\n",
      "i\n",
      "l\n",
      "i\n",
      "t\n",
      "y\n",
      " \n",
      "a\n",
      "n\n",
      "d\n",
      " \n",
      "t\n",
      "o\n",
      "o\n",
      "l\n",
      " \n",
      "l\n",
      "i\n",
      "f\n",
      "e\n",
      " \n",
      "o\n",
      "s\n",
      "g\n",
      " \n",
      "a\n",
      "l\n",
      "s\n",
      "o\n",
      " \n",
      "s\n",
      "e\n",
      "r\n",
      "v\n",
      "e\n",
      "s\n",
      " \n",
      "t\n",
      "h\n",
      "e\n",
      " \n",
      "f\n",
      "a\n",
      "s\n",
      "t\n",
      "e\n",
      "n\n",
      "e\n",
      "r\n",
      " \n",
      "i\n",
      "n\n",
      "d\n",
      "u\n",
      "s\n",
      "t\n",
      "r\n",
      "y\n",
      " \n",
      "b\n",
      "y\n",
      " \n",
      "o\n",
      "f\n",
      "f\n",
      "e\n",
      "r\n",
      "i\n",
      "n\n",
      "g\n",
      " \n",
      "a\n",
      " \n",
      "c\n",
      "o\n",
      "m\n",
      "p\n",
      "l\n",
      "e\n",
      "t\n",
      "e\n",
      " \n",
      "l\n",
      "i\n",
      "n\n",
      "e\n",
      " \n",
      "o\n",
      "f\n",
      " \n",
      "t\n",
      "h\n",
      "r\n",
      "e\n",
      "a\n",
      "d\n",
      " \n",
      "r\n",
      "o\n",
      "l\n",
      "l\n",
      "i\n",
      "n\n",
      "g\n",
      " \n",
      " \n",
      "f\n",
      "l\n",
      "a\n",
      "t\n",
      " \n",
      " \n",
      "c\n",
      "y\n",
      "l\n",
      "i\n",
      "n\n",
      "d\n",
      "r\n",
      "i\n",
      "c\n",
      "a\n",
      "l\n",
      " \n",
      " \n",
      "p\n",
      "l\n",
      "a\n",
      "n\n",
      "e\n",
      "t\n",
      "a\n",
      "r\n",
      "y\n",
      " \n",
      " \n",
      "r\n",
      "a\n",
      "c\n",
      "k\n",
      " \n",
      "a\n",
      "n\n",
      "d\n",
      " \n",
      "t\n",
      "r\n",
      "i\n",
      "m\n",
      " \n",
      "d\n",
      "i\n",
      "e\n",
      "s\n",
      " \n",
      "t\n",
      "h\n",
      "e\n",
      " \n",
      "c\n",
      "o\n",
      "m\n",
      "p\n",
      "a\n",
      "n\n",
      "y\n",
      " \n",
      "m\n",
      "a\n",
      "r\n",
      "k\n",
      "e\n",
      "t\n",
      "s\n",
      " \n",
      "i\n",
      "t\n",
      "s\n",
      " \n",
      "p\n",
      "r\n",
      "o\n",
      "d\n",
      "u\n",
      "c\n",
      "t\n",
      "s\n",
      " \n",
      "t\n",
      "o\n",
      " \n",
      "n\n",
      "u\n",
      "m\n",
      "e\n",
      "r\n",
      "o\n",
      "u\n",
      "s\n",
      " \n",
      "i\n",
      "n\n",
      "d\n",
      "u\n",
      "s\n",
      "t\n",
      "r\n",
      "i\n",
      "e\n",
      "s\n",
      " \n",
      "i\n",
      "n\n",
      "c\n",
      "l\n",
      "u\n",
      "d\n",
      "i\n",
      "n\n",
      "g\n",
      " \n",
      "a\n",
      "u\n",
      "t\n",
      "o\n",
      "m\n",
      "o\n",
      "t\n",
      "i\n",
      "v\n",
      "e\n",
      " \n",
      " \n",
      "d\n",
      "i\n",
      "e\n",
      " \n",
      "m\n",
      "o\n",
      "l\n",
      "d\n",
      " \n",
      " \n",
      "a\n",
      "e\n",
      "r\n",
      "o\n",
      "s\n",
      "p\n",
      "a\n",
      "c\n",
      "e\n",
      " \n",
      " \n",
      "e\n",
      "n\n",
      "e\n",
      "r\n",
      "g\n",
      "y\n",
      " \n",
      " \n",
      "h\n",
      "e\n",
      "a\n",
      "v\n",
      "y\n",
      " \n",
      "i\n",
      "n\n",
      "d\n",
      "u\n",
      "s\n",
      "t\n",
      "r\n",
      "y\n",
      " \n",
      "a\n",
      "n\n",
      "d\n",
      " \n",
      "d\n",
      "e\n",
      "n\n",
      "t\n",
      "a\n",
      "l\n",
      " \n"
     ]
    }
   ],
   "source": [
    "#stemming\n",
    "for i in corpus:\n",
    "    for word in i:\n",
    "        print(stemmer.stem(word))"
   ]
  },
  {
   "cell_type": "code",
   "execution_count": 49,
   "id": "1ed29311",
   "metadata": {},
   "outputs": [
    {
     "data": {
      "text/plain": [
       "['i',\n",
       " 'me',\n",
       " 'my',\n",
       " 'myself',\n",
       " 'we',\n",
       " 'our',\n",
       " 'ours',\n",
       " 'ourselves',\n",
       " 'you',\n",
       " \"you're\",\n",
       " \"you've\",\n",
       " \"you'll\",\n",
       " \"you'd\",\n",
       " 'your',\n",
       " 'yours',\n",
       " 'yourself',\n",
       " 'yourselves',\n",
       " 'he',\n",
       " 'him',\n",
       " 'his',\n",
       " 'himself',\n",
       " 'she',\n",
       " \"she's\",\n",
       " 'her',\n",
       " 'hers',\n",
       " 'herself',\n",
       " 'it',\n",
       " \"it's\",\n",
       " 'its',\n",
       " 'itself',\n",
       " 'they',\n",
       " 'them',\n",
       " 'their',\n",
       " 'theirs',\n",
       " 'themselves',\n",
       " 'what',\n",
       " 'which',\n",
       " 'who',\n",
       " 'whom',\n",
       " 'this',\n",
       " 'that',\n",
       " \"that'll\",\n",
       " 'these',\n",
       " 'those',\n",
       " 'am',\n",
       " 'is',\n",
       " 'are',\n",
       " 'was',\n",
       " 'were',\n",
       " 'be',\n",
       " 'been',\n",
       " 'being',\n",
       " 'have',\n",
       " 'has',\n",
       " 'had',\n",
       " 'having',\n",
       " 'do',\n",
       " 'does',\n",
       " 'did',\n",
       " 'doing',\n",
       " 'a',\n",
       " 'an',\n",
       " 'the',\n",
       " 'and',\n",
       " 'but',\n",
       " 'if',\n",
       " 'or',\n",
       " 'because',\n",
       " 'as',\n",
       " 'until',\n",
       " 'while',\n",
       " 'of',\n",
       " 'at',\n",
       " 'by',\n",
       " 'for',\n",
       " 'with',\n",
       " 'about',\n",
       " 'against',\n",
       " 'between',\n",
       " 'into',\n",
       " 'through',\n",
       " 'during',\n",
       " 'before',\n",
       " 'after',\n",
       " 'above',\n",
       " 'below',\n",
       " 'to',\n",
       " 'from',\n",
       " 'up',\n",
       " 'down',\n",
       " 'in',\n",
       " 'out',\n",
       " 'on',\n",
       " 'off',\n",
       " 'over',\n",
       " 'under',\n",
       " 'again',\n",
       " 'further',\n",
       " 'then',\n",
       " 'once',\n",
       " 'here',\n",
       " 'there',\n",
       " 'when',\n",
       " 'where',\n",
       " 'why',\n",
       " 'how',\n",
       " 'all',\n",
       " 'any',\n",
       " 'both',\n",
       " 'each',\n",
       " 'few',\n",
       " 'more',\n",
       " 'most',\n",
       " 'other',\n",
       " 'some',\n",
       " 'such',\n",
       " 'no',\n",
       " 'nor',\n",
       " 'not',\n",
       " 'only',\n",
       " 'own',\n",
       " 'same',\n",
       " 'so',\n",
       " 'than',\n",
       " 'too',\n",
       " 'very',\n",
       " 's',\n",
       " 't',\n",
       " 'can',\n",
       " 'will',\n",
       " 'just',\n",
       " 'don',\n",
       " \"don't\",\n",
       " 'should',\n",
       " \"should've\",\n",
       " 'now',\n",
       " 'd',\n",
       " 'll',\n",
       " 'm',\n",
       " 'o',\n",
       " 're',\n",
       " 've',\n",
       " 'y',\n",
       " 'ain',\n",
       " 'aren',\n",
       " \"aren't\",\n",
       " 'couldn',\n",
       " \"couldn't\",\n",
       " 'didn',\n",
       " \"didn't\",\n",
       " 'doesn',\n",
       " \"doesn't\",\n",
       " 'hadn',\n",
       " \"hadn't\",\n",
       " 'hasn',\n",
       " \"hasn't\",\n",
       " 'haven',\n",
       " \"haven't\",\n",
       " 'isn',\n",
       " \"isn't\",\n",
       " 'ma',\n",
       " 'mightn',\n",
       " \"mightn't\",\n",
       " 'mustn',\n",
       " \"mustn't\",\n",
       " 'needn',\n",
       " \"needn't\",\n",
       " 'shan',\n",
       " \"shan't\",\n",
       " 'shouldn',\n",
       " \"shouldn't\",\n",
       " 'wasn',\n",
       " \"wasn't\",\n",
       " 'weren',\n",
       " \"weren't\",\n",
       " 'won',\n",
       " \"won't\",\n",
       " 'wouldn',\n",
       " \"wouldn't\"]"
      ]
     },
     "execution_count": 49,
     "metadata": {},
     "output_type": "execute_result"
    }
   ],
   "source": [
    "stopwords.words('english')"
   ]
  },
  {
   "cell_type": "code",
   "execution_count": 50,
   "id": "b30a65ab",
   "metadata": {},
   "outputs": [
    {
     "name": "stdout",
     "output_type": "stream",
     "text": [
      "osg\n",
      "leading\n",
      "manufacturer\n",
      "tap\n",
      "end\n",
      "mill\n",
      "drill\n",
      "indexable\n",
      "cutting\n",
      "tool\n",
      "osg\n",
      "extensive\n",
      "line\n",
      "high\n",
      "technology\n",
      "cutting\n",
      "tool\n",
      "feature\n",
      "exclusive\n",
      "metallurgy\n",
      "cutting\n",
      "geometry\n",
      "proprietary\n",
      "surface\n",
      "treatment\n",
      "help\n",
      "increase\n",
      "productivity\n",
      "reliability\n",
      "tool\n",
      "life\n",
      "osg\n",
      "also\n",
      "serf\n",
      "fastener\n",
      "industry\n",
      "offering\n",
      "complete\n",
      "line\n",
      "thread\n",
      "rolling\n",
      "flat\n",
      "cylindrical\n",
      "planetary\n",
      "rack\n",
      "trim\n",
      "dy\n",
      "company\n",
      "market\n",
      "product\n",
      "numerous\n",
      "industry\n",
      "including\n",
      "automotive\n",
      "die\n",
      "mold\n",
      "aerospace\n",
      "energy\n",
      "heavy\n",
      "industry\n",
      "dental\n"
     ]
    }
   ],
   "source": [
    "for i in corpus:\n",
    "    words=nltk.word_tokenize(i)\n",
    "    for word in words:\n",
    "        if word not in set(stopwords.words('english')):\n",
    "            print(lemmatizer.lemmatize(word))"
   ]
  },
  {
   "cell_type": "code",
   "execution_count": 51,
   "id": "5ddce1e0",
   "metadata": {},
   "outputs": [],
   "source": [
    "#bag of words\n",
    "from sklearn.feature_extraction.text import CountVectorizer\n",
    "cv=CountVectorizer()"
   ]
  },
  {
   "cell_type": "code",
   "execution_count": 52,
   "id": "5aeedb0e",
   "metadata": {},
   "outputs": [],
   "source": [
    "X=cv.fit_transform(corpus)"
   ]
  },
  {
   "cell_type": "code",
   "execution_count": 53,
   "id": "f9f9dd95",
   "metadata": {},
   "outputs": [
    {
     "data": {
      "text/plain": [
       "{'osg': 42,\n",
       " 'is': 29,\n",
       " 'leading': 31,\n",
       " 'manufacturer': 34,\n",
       " 'of': 40,\n",
       " 'taps': 52,\n",
       " 'end': 13,\n",
       " 'mills': 37,\n",
       " 'drills': 12,\n",
       " 'and': 2,\n",
       " 'indexable': 26,\n",
       " 'cutting': 7,\n",
       " 'tools': 58,\n",
       " 'extensive': 16,\n",
       " 'line': 33,\n",
       " 'high': 23,\n",
       " 'technology': 53,\n",
       " 'features': 18,\n",
       " 'exclusive': 15,\n",
       " 'metallurgy': 36,\n",
       " 'geometries': 20,\n",
       " 'proprietary': 46,\n",
       " 'surface': 51,\n",
       " 'treatments': 59,\n",
       " 'to': 56,\n",
       " 'help': 22,\n",
       " 'increase': 25,\n",
       " 'productivity': 44,\n",
       " 'reliability': 48,\n",
       " 'tool': 57,\n",
       " 'life': 32,\n",
       " 'also': 1,\n",
       " 'serves': 50,\n",
       " 'the': 54,\n",
       " 'fastener': 17,\n",
       " 'industry': 28,\n",
       " 'by': 4,\n",
       " 'offering': 41,\n",
       " 'complete': 6,\n",
       " 'thread': 55,\n",
       " 'rolling': 49,\n",
       " 'flat': 19,\n",
       " 'cylindrical': 8,\n",
       " 'planetary': 43,\n",
       " 'rack': 47,\n",
       " 'trim': 60,\n",
       " 'dies': 11,\n",
       " 'company': 5,\n",
       " 'markets': 35,\n",
       " 'its': 30,\n",
       " 'products': 45,\n",
       " 'numerous': 39,\n",
       " 'industries': 27,\n",
       " 'including': 24,\n",
       " 'automotive': 3,\n",
       " 'die': 10,\n",
       " 'mold': 38,\n",
       " 'aerospace': 0,\n",
       " 'energy': 14,\n",
       " 'heavy': 21,\n",
       " 'dental': 9}"
      ]
     },
     "execution_count": 53,
     "metadata": {},
     "output_type": "execute_result"
    }
   ],
   "source": [
    "cv.vocabulary_"
   ]
  },
  {
   "cell_type": "code",
   "execution_count": 54,
   "id": "719639ab",
   "metadata": {},
   "outputs": [
    {
     "data": {
      "text/plain": [
       "' osg is a leading manufacturer of taps  end mills  drills  and indexable cutting tools '"
      ]
     },
     "execution_count": 54,
     "metadata": {},
     "output_type": "execute_result"
    }
   ],
   "source": [
    "corpus[0]"
   ]
  },
  {
   "cell_type": "code",
   "execution_count": 55,
   "id": "f76b9e33",
   "metadata": {},
   "outputs": [
    {
     "data": {
      "text/plain": [
       "array([[0, 0, 1, 0, 0, 0, 0, 1, 0, 0, 0, 0, 1, 1, 0, 0, 0, 0, 0, 0, 0, 0,\n",
       "        0, 0, 0, 0, 1, 0, 0, 1, 0, 1, 0, 0, 1, 0, 0, 1, 0, 0, 1, 0, 1, 0,\n",
       "        0, 0, 0, 0, 0, 0, 0, 0, 1, 0, 0, 0, 0, 0, 1, 0, 0]], dtype=int64)"
      ]
     },
     "execution_count": 55,
     "metadata": {},
     "output_type": "execute_result"
    }
   ],
   "source": [
    "X[0].toarray()"
   ]
  },
  {
   "cell_type": "code",
   "execution_count": 56,
   "id": "912422f7",
   "metadata": {},
   "outputs": [],
   "source": [
    "# exploringTF_IDF\n",
    "from sklearn.feature_extraction.text import TfidfVectorizer\n",
    "\n",
    "cv=TfidfVectorizer(ngram_range=(3,3),max_features=10)\n",
    "X=cv.fit_transform(corpus)"
   ]
  },
  {
   "cell_type": "code",
   "execution_count": 57,
   "id": "76c9c2cd",
   "metadata": {},
   "outputs": [
    {
     "data": {
      "text/plain": [
       "' osg is a leading manufacturer of taps  end mills  drills  and indexable cutting tools '"
      ]
     },
     "execution_count": 57,
     "metadata": {},
     "output_type": "execute_result"
    }
   ],
   "source": [
    "corpus[0]"
   ]
  },
  {
   "cell_type": "code",
   "execution_count": 58,
   "id": "d8ac3784",
   "metadata": {},
   "outputs": [
    {
     "data": {
      "text/plain": [
       "array([[0.        , 0.        , 0.57735027, 0.        , 0.        ,\n",
       "        0.57735027, 0.        , 0.        , 0.        , 0.57735027]])"
      ]
     },
     "execution_count": 58,
     "metadata": {},
     "output_type": "execute_result"
    }
   ],
   "source": [
    "X[0].toarray()"
   ]
  },
  {
   "cell_type": "markdown",
   "id": "260fb26b",
   "metadata": {},
   "source": [
    "# word to vec"
   ]
  },
  {
   "cell_type": "code",
   "execution_count": 59,
   "id": "c5025d93",
   "metadata": {},
   "outputs": [
    {
     "name": "stdout",
     "output_type": "stream",
     "text": [
      "Requirement already satisfied: gensim in c:\\users\\arpita singh\\onedrive\\documents\\anaconda\\lib\\site-packages (4.1.2)\n",
      "Requirement already satisfied: scipy>=0.18.1 in c:\\users\\arpita singh\\onedrive\\documents\\anaconda\\lib\\site-packages (from gensim) (1.9.1)\n",
      "Requirement already satisfied: smart-open>=1.8.1 in c:\\users\\arpita singh\\onedrive\\documents\\anaconda\\lib\\site-packages (from gensim) (5.2.1)\n",
      "Requirement already satisfied: numpy>=1.17.0 in c:\\users\\arpita singh\\onedrive\\documents\\anaconda\\lib\\site-packages (from gensim) (1.21.5)\n"
     ]
    }
   ],
   "source": [
    "! pip install gensim"
   ]
  },
  {
   "cell_type": "code",
   "execution_count": 60,
   "id": "3b45beb2",
   "metadata": {},
   "outputs": [],
   "source": [
    "import gensim"
   ]
  },
  {
   "cell_type": "code",
   "execution_count": 61,
   "id": "1755ecac",
   "metadata": {},
   "outputs": [],
   "source": [
    "from gensim.models import Word2Vec, KeyedVectors"
   ]
  },
  {
   "cell_type": "code",
   "execution_count": 62,
   "id": "5cf14a2b",
   "metadata": {},
   "outputs": [],
   "source": [
    "import gensim.downloader as api\n",
    "wv=api.load('word2vec-google-news-300')\n",
    "vec_king=wv['king']"
   ]
  },
  {
   "cell_type": "code",
   "execution_count": 63,
   "id": "e5043f32",
   "metadata": {},
   "outputs": [
    {
     "data": {
      "text/plain": [
       "array([ 1.25976562e-01,  2.97851562e-02,  8.60595703e-03,  1.39648438e-01,\n",
       "       -2.56347656e-02, -3.61328125e-02,  1.11816406e-01, -1.98242188e-01,\n",
       "        5.12695312e-02,  3.63281250e-01, -2.42187500e-01, -3.02734375e-01,\n",
       "       -1.77734375e-01, -2.49023438e-02, -1.67968750e-01, -1.69921875e-01,\n",
       "        3.46679688e-02,  5.21850586e-03,  4.63867188e-02,  1.28906250e-01,\n",
       "        1.36718750e-01,  1.12792969e-01,  5.95703125e-02,  1.36718750e-01,\n",
       "        1.01074219e-01, -1.76757812e-01, -2.51953125e-01,  5.98144531e-02,\n",
       "        3.41796875e-01, -3.11279297e-02,  1.04492188e-01,  6.17675781e-02,\n",
       "        1.24511719e-01,  4.00390625e-01, -3.22265625e-01,  8.39843750e-02,\n",
       "        3.90625000e-02,  5.85937500e-03,  7.03125000e-02,  1.72851562e-01,\n",
       "        1.38671875e-01, -2.31445312e-01,  2.83203125e-01,  1.42578125e-01,\n",
       "        3.41796875e-01, -2.39257812e-02, -1.09863281e-01,  3.32031250e-02,\n",
       "       -5.46875000e-02,  1.53198242e-02, -1.62109375e-01,  1.58203125e-01,\n",
       "       -2.59765625e-01,  2.01416016e-02, -1.63085938e-01,  1.35803223e-03,\n",
       "       -1.44531250e-01, -5.68847656e-02,  4.29687500e-02, -2.46582031e-02,\n",
       "        1.85546875e-01,  4.47265625e-01,  9.58251953e-03,  1.31835938e-01,\n",
       "        9.86328125e-02, -1.85546875e-01, -1.00097656e-01, -1.33789062e-01,\n",
       "       -1.25000000e-01,  2.83203125e-01,  1.23046875e-01,  5.32226562e-02,\n",
       "       -1.77734375e-01,  8.59375000e-02, -2.18505859e-02,  2.05078125e-02,\n",
       "       -1.39648438e-01,  2.51464844e-02,  1.38671875e-01, -1.05468750e-01,\n",
       "        1.38671875e-01,  8.88671875e-02, -7.51953125e-02, -2.13623047e-02,\n",
       "        1.72851562e-01,  4.63867188e-02, -2.65625000e-01,  8.91113281e-03,\n",
       "        1.49414062e-01,  3.78417969e-02,  2.38281250e-01, -1.24511719e-01,\n",
       "       -2.17773438e-01, -1.81640625e-01,  2.97851562e-02,  5.71289062e-02,\n",
       "       -2.89306641e-02,  1.24511719e-02,  9.66796875e-02, -2.31445312e-01,\n",
       "        5.81054688e-02,  6.68945312e-02,  7.08007812e-02, -3.08593750e-01,\n",
       "       -2.14843750e-01,  1.45507812e-01, -4.27734375e-01, -9.39941406e-03,\n",
       "        1.54296875e-01, -7.66601562e-02,  2.89062500e-01,  2.77343750e-01,\n",
       "       -4.86373901e-04, -1.36718750e-01,  3.24218750e-01, -2.46093750e-01,\n",
       "       -3.03649902e-03, -2.11914062e-01,  1.25000000e-01,  2.69531250e-01,\n",
       "        2.04101562e-01,  8.25195312e-02, -2.01171875e-01, -1.60156250e-01,\n",
       "       -3.78417969e-02, -1.20117188e-01,  1.15234375e-01, -4.10156250e-02,\n",
       "       -3.95507812e-02, -8.98437500e-02,  6.34765625e-03,  2.03125000e-01,\n",
       "        1.86523438e-01,  2.73437500e-01,  6.29882812e-02,  1.41601562e-01,\n",
       "       -9.81445312e-02,  1.38671875e-01,  1.82617188e-01,  1.73828125e-01,\n",
       "        1.73828125e-01, -2.37304688e-01,  1.78710938e-01,  6.34765625e-02,\n",
       "        2.36328125e-01, -2.08984375e-01,  8.74023438e-02, -1.66015625e-01,\n",
       "       -7.91015625e-02,  2.43164062e-01, -8.88671875e-02,  1.26953125e-01,\n",
       "       -2.16796875e-01, -1.73828125e-01, -3.59375000e-01, -8.25195312e-02,\n",
       "       -6.49414062e-02,  5.07812500e-02,  1.35742188e-01, -7.47070312e-02,\n",
       "       -1.64062500e-01,  1.15356445e-02,  4.45312500e-01, -2.15820312e-01,\n",
       "       -1.11328125e-01, -1.92382812e-01,  1.70898438e-01, -1.25000000e-01,\n",
       "        2.65502930e-03,  1.92382812e-01, -1.74804688e-01,  1.39648438e-01,\n",
       "        2.92968750e-01,  1.13281250e-01,  5.95703125e-02, -6.39648438e-02,\n",
       "        9.96093750e-02, -2.72216797e-02,  1.96533203e-02,  4.27246094e-02,\n",
       "       -2.46093750e-01,  6.39648438e-02, -2.25585938e-01, -1.68945312e-01,\n",
       "        2.89916992e-03,  8.20312500e-02,  3.41796875e-01,  4.32128906e-02,\n",
       "        1.32812500e-01,  1.42578125e-01,  7.61718750e-02,  5.98144531e-02,\n",
       "       -1.19140625e-01,  2.74658203e-03, -6.29882812e-02, -2.72216797e-02,\n",
       "       -4.82177734e-03, -8.20312500e-02, -2.49023438e-02, -4.00390625e-01,\n",
       "       -1.06933594e-01,  4.24804688e-02,  7.76367188e-02, -1.16699219e-01,\n",
       "        7.37304688e-02, -9.22851562e-02,  1.07910156e-01,  1.58203125e-01,\n",
       "        4.24804688e-02,  1.26953125e-01,  3.61328125e-02,  2.67578125e-01,\n",
       "       -1.01074219e-01, -3.02734375e-01, -5.76171875e-02,  5.05371094e-02,\n",
       "        5.26428223e-04, -2.07031250e-01, -1.38671875e-01, -8.97216797e-03,\n",
       "       -2.78320312e-02, -1.41601562e-01,  2.07031250e-01, -1.58203125e-01,\n",
       "        1.27929688e-01,  1.49414062e-01, -2.24609375e-02, -8.44726562e-02,\n",
       "        1.22558594e-01,  2.15820312e-01, -2.13867188e-01, -3.12500000e-01,\n",
       "       -3.73046875e-01,  4.08935547e-03,  1.07421875e-01,  1.06933594e-01,\n",
       "        7.32421875e-02,  8.97216797e-03, -3.88183594e-02, -1.29882812e-01,\n",
       "        1.49414062e-01, -2.14843750e-01, -1.83868408e-03,  9.91210938e-02,\n",
       "        1.57226562e-01, -1.14257812e-01, -2.05078125e-01,  9.91210938e-02,\n",
       "        3.69140625e-01, -1.97265625e-01,  3.54003906e-02,  1.09375000e-01,\n",
       "        1.31835938e-01,  1.66992188e-01,  2.35351562e-01,  1.04980469e-01,\n",
       "       -4.96093750e-01, -1.64062500e-01, -1.56250000e-01, -5.22460938e-02,\n",
       "        1.03027344e-01,  2.43164062e-01, -1.88476562e-01,  5.07812500e-02,\n",
       "       -9.37500000e-02, -6.68945312e-02,  2.27050781e-02,  7.61718750e-02,\n",
       "        2.89062500e-01,  3.10546875e-01, -5.37109375e-02,  2.28515625e-01,\n",
       "        2.51464844e-02,  6.78710938e-02, -1.21093750e-01, -2.15820312e-01,\n",
       "       -2.73437500e-01, -3.07617188e-02, -3.37890625e-01,  1.53320312e-01,\n",
       "        2.33398438e-01, -2.08007812e-01,  3.73046875e-01,  8.20312500e-02,\n",
       "        2.51953125e-01, -7.61718750e-02, -4.66308594e-02, -2.23388672e-02,\n",
       "        2.99072266e-02, -5.93261719e-02, -4.66918945e-03, -2.44140625e-01,\n",
       "       -2.09960938e-01, -2.87109375e-01, -4.54101562e-02, -1.77734375e-01,\n",
       "       -2.79296875e-01, -8.59375000e-02,  9.13085938e-02,  2.51953125e-01],\n",
       "      dtype=float32)"
      ]
     },
     "execution_count": 63,
     "metadata": {},
     "output_type": "execute_result"
    }
   ],
   "source": [
    "vec_king"
   ]
  },
  {
   "cell_type": "code",
   "execution_count": 64,
   "id": "cb3cb565",
   "metadata": {},
   "outputs": [
    {
     "data": {
      "text/plain": [
       "[('woman', 0.7664012908935547),\n",
       " ('boy', 0.6824870705604553),\n",
       " ('teenager', 0.6586930751800537),\n",
       " ('teenage_girl', 0.6147903203964233),\n",
       " ('girl', 0.5921714305877686),\n",
       " ('suspected_purse_snatcher', 0.5716364979743958),\n",
       " ('robber', 0.5585118532180786),\n",
       " ('Robbery_suspect', 0.5584409832954407),\n",
       " ('teen_ager', 0.5549197196960449),\n",
       " ('men', 0.5489763021469116)]"
      ]
     },
     "execution_count": 64,
     "metadata": {},
     "output_type": "execute_result"
    }
   ],
   "source": [
    "wv.most_similar('man')"
   ]
  },
  {
   "cell_type": "code",
   "execution_count": 65,
   "id": "dbc8d36b",
   "metadata": {},
   "outputs": [
    {
     "data": {
      "text/plain": [
       "[('kings', 0.7138046622276306),\n",
       " ('queen', 0.6510956287384033),\n",
       " ('monarch', 0.6413194537162781),\n",
       " ('crown_prince', 0.6204220056533813),\n",
       " ('prince', 0.6159993410110474),\n",
       " ('sultan', 0.5864824056625366),\n",
       " ('ruler', 0.5797566771507263),\n",
       " ('princes', 0.5646552443504333),\n",
       " ('Prince_Paras', 0.5432944297790527),\n",
       " ('throne', 0.5422104597091675)]"
      ]
     },
     "execution_count": 65,
     "metadata": {},
     "output_type": "execute_result"
    }
   ],
   "source": [
    "wv.most_similar('king')"
   ]
  },
  {
   "cell_type": "code",
   "execution_count": 66,
   "id": "51bc22c9",
   "metadata": {},
   "outputs": [
    {
     "data": {
      "text/plain": [
       "0.22942671"
      ]
     },
     "execution_count": 66,
     "metadata": {},
     "output_type": "execute_result"
    }
   ],
   "source": [
    "wv.similarity('man','king')"
   ]
  },
  {
   "cell_type": "code",
   "execution_count": 67,
   "id": "e888158a",
   "metadata": {},
   "outputs": [
    {
     "data": {
      "text/plain": [
       "0.12966082"
      ]
     },
     "execution_count": 67,
     "metadata": {},
     "output_type": "execute_result"
    }
   ],
   "source": [
    "wv.similarity('html','programer')"
   ]
  },
  {
   "cell_type": "code",
   "execution_count": null,
   "id": "c9097b49",
   "metadata": {},
   "outputs": [],
   "source": []
  }
 ],
 "metadata": {
  "kernelspec": {
   "display_name": "Python 3 (ipykernel)",
   "language": "python",
   "name": "python3"
  },
  "language_info": {
   "codemirror_mode": {
    "name": "ipython",
    "version": 3
   },
   "file_extension": ".py",
   "mimetype": "text/x-python",
   "name": "python",
   "nbconvert_exporter": "python",
   "pygments_lexer": "ipython3",
   "version": "3.9.13"
  }
 },
 "nbformat": 4,
 "nbformat_minor": 5
}
